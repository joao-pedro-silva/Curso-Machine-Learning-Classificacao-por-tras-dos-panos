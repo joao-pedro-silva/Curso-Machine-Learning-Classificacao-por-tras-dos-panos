{
  "nbformat": 4,
  "nbformat_minor": 0,
  "metadata": {
    "colab": {
      "name": "01. Classificando e-mails, animais e muito mais.ipynb",
      "provenance": [],
      "authorship_tag": "ABX9TyO/SBHk2gJ0XIiIzqDgaerv",
      "include_colab_link": true
    },
    "kernelspec": {
      "name": "python3",
      "display_name": "Python 3"
    },
    "language_info": {
      "name": "python"
    }
  },
  "cells": [
    {
      "cell_type": "markdown",
      "metadata": {
        "id": "view-in-github",
        "colab_type": "text"
      },
      "source": [
        "<a href=\"https://colab.research.google.com/github/joao-pedro-silva/Curso-Machine-Learning-Classificacao-por-tras-dos-panos/blob/main/01_Classificando_e_mails%2C_animais_e_muito_mais.ipynb\" target=\"_parent\"><img src=\"https://colab.research.google.com/assets/colab-badge.svg\" alt=\"Open In Colab\"/></a>"
      ]
    },
    {
      "cell_type": "code",
      "metadata": {
        "id": "vJ6bchDpSepm"
      },
      "source": [
        "# e gordinho\n",
        "# tem perna curta\n",
        "# faz auau?\n",
        "porco1 = [1, 1, 0]\n",
        "porco2 = [1, 1, 0]\n",
        "porco3 = [1, 1, 0]\n",
        "\n",
        "cachorro1 = [1, 1, 1]\n",
        "cachorro2 = [0, 1, 1]\n",
        "cachorro3 = [0, 1, 1]\n",
        "\n",
        "dados = [porco1, porco2, porco3, cachorro1, cachorro2, cachorro3]\n",
        "\n",
        "marcacoes = [1, 1, 1, -1, -1, -1]"
      ],
      "execution_count": 1,
      "outputs": []
    },
    {
      "cell_type": "code",
      "metadata": {
        "id": "P3NBpzgLWA8B"
      },
      "source": [
        "misterioso1 = [1, 1, 1]\n",
        "misterioso2 = [1, 0, 0]\n",
        "\n",
        "teste = [misterioso1, misterioso2]"
      ],
      "execution_count": 2,
      "outputs": []
    },
    {
      "cell_type": "code",
      "metadata": {
        "colab": {
          "base_uri": "https://localhost:8080/"
        },
        "id": "9TVZZoJbWKKS",
        "outputId": "4c245193-cdfd-4ef8-f1fa-6e7966333c7c"
      },
      "source": [
        "from sklearn.naive_bayes import MultinomialNB\n",
        "\n",
        "modelo = MultinomialNB()\n",
        "modelo.fit(dados, marcacoes)\n",
        "previsao = modelo.predict(teste)\n",
        "\n",
        "print(previsao)"
      ],
      "execution_count": 3,
      "outputs": [
        {
          "output_type": "stream",
          "text": [
            "[-1  1]\n"
          ],
          "name": "stdout"
        }
      ]
    }
  ]
}