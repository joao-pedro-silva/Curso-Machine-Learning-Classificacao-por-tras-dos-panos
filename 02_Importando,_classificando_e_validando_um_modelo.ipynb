{
  "nbformat": 4,
  "nbformat_minor": 0,
  "metadata": {
    "colab": {
      "name": "02 Importando, classificando e validando um modelo.ipynb",
      "provenance": [],
      "authorship_tag": "ABX9TyN40JHF+myWSx1KgixrB025",
      "include_colab_link": true
    },
    "kernelspec": {
      "name": "python3",
      "display_name": "Python 3"
    },
    "language_info": {
      "name": "python"
    }
  },
  "cells": [
    {
      "cell_type": "markdown",
      "metadata": {
        "id": "view-in-github",
        "colab_type": "text"
      },
      "source": [
        "<a href=\"https://colab.research.google.com/github/joao-pedro-silva/Curso-Machine-Learning-Classificacao-por-tras-dos-panos/blob/main/02_Importando%2C_classificando_e_validando_um_modelo.ipynb\" target=\"_parent\"><img src=\"https://colab.research.google.com/assets/colab-badge.svg\" alt=\"Open In Colab\"/></a>"
      ]
    },
    {
      "cell_type": "code",
      "metadata": {
        "id": "8htZ4XI3nmp-"
      },
      "source": [
        "import csv\n",
        "\n",
        "def carregar_acessos():\n",
        "   \n",
        "   X = []\n",
        "   Y = []\n",
        "\n",
        "   arquivo = open('acesso.csv', 'rt')\n",
        "   leitor = csv.reader(arquivo)\n",
        "\n",
        "  #Skip first line (Column Names)\n",
        "   next(leitor)\n",
        "   \n",
        "   for acessou_home, acessou_como_funciona, acessou_contacto, comprou in leitor:\n",
        "     \n",
        "     dado = [int(acessou_home), int(acessou_como_funciona), int(acessou_contacto)]\n",
        "     X.append(dado)\n",
        "\n",
        "     Y.append(int(comprou))\n",
        "     \n",
        "   return X, Y"
      ],
      "execution_count": 1,
      "outputs": []
    },
    {
      "cell_type": "code",
      "metadata": {
        "id": "1zxVPwBlo_-K"
      },
      "source": [
        "X, Y = carregar_acessos()"
      ],
      "execution_count": 2,
      "outputs": []
    },
    {
      "cell_type": "code",
      "metadata": {
        "id": "keVg2VaICTep"
      },
      "source": [
        "X_treino = X[:90]\n",
        "Y_treino = Y[:90]\n",
        "\n",
        "X_teste = X[-9:]\n",
        "Y_teste = Y[-9:]"
      ],
      "execution_count": 3,
      "outputs": []
    },
    {
      "cell_type": "code",
      "metadata": {
        "id": "hQvQmSwA-eYK",
        "outputId": "c9c34970-2618-46b5-cb88-c3406efef5af",
        "colab": {
          "base_uri": "https://localhost:8080/"
        }
      },
      "source": [
        "from sklearn.naive_bayes import MultinomialNB\n",
        "\n",
        "modelo = MultinomialNB()\n",
        "\n",
        "modelo.fit(X_treino, Y_treino)"
      ],
      "execution_count": 4,
      "outputs": [
        {
          "output_type": "execute_result",
          "data": {
            "text/plain": [
              "MultinomialNB(alpha=1.0, class_prior=None, fit_prior=True)"
            ]
          },
          "metadata": {
            "tags": []
          },
          "execution_count": 4
        }
      ]
    },
    {
      "cell_type": "code",
      "metadata": {
        "id": "5FaYLeuX_DlW",
        "outputId": "0f9be387-7660-4c57-e8f8-e374cddb53e1",
        "colab": {
          "base_uri": "https://localhost:8080/"
        }
      },
      "source": [
        "previsao = modelo.predict([[1, 0, 1], [0, 1, 0], [1, 0, 0], [1, 1, 0], [1, 1, 1]])\n",
        "print(previsao)"
      ],
      "execution_count": 5,
      "outputs": [
        {
          "output_type": "stream",
          "text": [
            "[1 0 0 0 0]\n"
          ],
          "name": "stdout"
        }
      ]
    },
    {
      "cell_type": "code",
      "metadata": {
        "id": "Tsf2dwW1_UDt",
        "outputId": "049e5479-dbf1-4257-bd36-048dbecd35af",
        "colab": {
          "base_uri": "https://localhost:8080/"
        }
      },
      "source": [
        "resultado = modelo.predict(X_teste)\n",
        "\n",
        "diferencas = resultado - Y_teste\n",
        "acertos = [d for d in diferencas if d==0]\n",
        "total_de_acertos = len(acertos)\n",
        "total_de_elementos = len(X_teste)\n",
        "taxa_de_acerto = 100.0 * total_de_acertos / total_de_elementos\n",
        "\n",
        "print(taxa_de_acerto)\n",
        "print(total_de_elementos)"
      ],
      "execution_count": 6,
      "outputs": [
        {
          "output_type": "stream",
          "text": [
            "88.88888888888889\n",
            "9\n"
          ],
          "name": "stdout"
        }
      ]
    },
    {
      "cell_type": "code",
      "metadata": {
        "id": "hkh8l2QaAuKS"
      },
      "source": [
        ""
      ],
      "execution_count": 6,
      "outputs": []
    }
  ]
}