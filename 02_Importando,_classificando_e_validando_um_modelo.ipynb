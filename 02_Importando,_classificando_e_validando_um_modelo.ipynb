{
  "nbformat": 4,
  "nbformat_minor": 0,
  "metadata": {
    "colab": {
      "name": "02 Importando, classificando e validando um modelo.ipynb",
      "provenance": [],
      "authorship_tag": "ABX9TyNggqHb0BXgj8dRczR6NhJQ",
      "include_colab_link": true
    },
    "kernelspec": {
      "name": "python3",
      "display_name": "Python 3"
    },
    "language_info": {
      "name": "python"
    }
  },
  "cells": [
    {
      "cell_type": "markdown",
      "metadata": {
        "id": "view-in-github",
        "colab_type": "text"
      },
      "source": [
        "<a href=\"https://colab.research.google.com/github/joao-pedro-silva/Curso-Machine-Learning-Classificacao-por-tras-dos-panos/blob/main/02_Importando%2C_classificando_e_validando_um_modelo.ipynb\" target=\"_parent\"><img src=\"https://colab.research.google.com/assets/colab-badge.svg\" alt=\"Open In Colab\"/></a>"
      ]
    },
    {
      "cell_type": "code",
      "metadata": {
        "id": "8htZ4XI3nmp-"
      },
      "source": [
        "import csv\n",
        "\n",
        "def carregar_acessos():\n",
        "   \n",
        "   X = []\n",
        "   Y = []\n",
        "\n",
        "   arquivo = open('acesso.csv', 'rt')\n",
        "   leitor = csv.reader(arquivo)\n",
        "\n",
        "  #Skip first line (Column Names)\n",
        "   next(leitor)\n",
        "   \n",
        "   for acessou_home, acessou_como_funciona, acessou_contacto, comprou in leitor:\n",
        "     \n",
        "     dado = [int(acessou_home), int(acessou_como_funciona), int(acessou_contacto)]\n",
        "     X.append(dado)\n",
        "\n",
        "     Y.append(int(comprou))\n",
        "     \n",
        "   return X, Y"
      ],
      "execution_count": 1,
      "outputs": []
    },
    {
      "cell_type": "code",
      "metadata": {
        "id": "1zxVPwBlo_-K"
      },
      "source": [
        "X, Y = carregar_acessos()"
      ],
      "execution_count": 2,
      "outputs": []
    },
    {
      "cell_type": "code",
      "metadata": {
        "colab": {
          "base_uri": "https://localhost:8080/"
        },
        "id": "4e19pzgtp6lw",
        "outputId": "183b3af8-01a7-49bd-e8b4-60c020bb5bea"
      },
      "source": [
        "X"
      ],
      "execution_count": 3,
      "outputs": [
        {
          "output_type": "execute_result",
          "data": {
            "text/plain": [
              "[[1, 1, 0],\n",
              " [1, 1, 0],\n",
              " [1, 1, 0],\n",
              " [1, 1, 0],\n",
              " [1, 1, 0],\n",
              " [1, 0, 1],\n",
              " [1, 1, 0],\n",
              " [1, 0, 1],\n",
              " [1, 1, 0],\n",
              " [1, 0, 1],\n",
              " [1, 1, 0],\n",
              " [1, 0, 1],\n",
              " [0, 0, 1],\n",
              " [0, 0, 1],\n",
              " [0, 0, 1],\n",
              " [0, 0, 1],\n",
              " [0, 0, 1],\n",
              " [0, 1, 0],\n",
              " [0, 0, 1],\n",
              " [0, 1, 0],\n",
              " [0, 0, 1],\n",
              " [0, 1, 0],\n",
              " [0, 0, 1],\n",
              " [0, 1, 0],\n",
              " [1, 0, 1],\n",
              " [1, 1, 1],\n",
              " [1, 1, 1],\n",
              " [1, 0, 1],\n",
              " [0, 1, 0],\n",
              " [0, 0, 1],\n",
              " [0, 1, 0],\n",
              " [1, 0, 1],\n",
              " [0, 0, 1],\n",
              " [1, 0, 1],\n",
              " [1, 0, 1],\n",
              " [1, 0, 1],\n",
              " [1, 0, 1],\n",
              " [0, 0, 1],\n",
              " [1, 1, 0],\n",
              " [1, 0, 1],\n",
              " [0, 1, 0],\n",
              " [0, 0, 1],\n",
              " [0, 1, 0],\n",
              " [1, 0, 1],\n",
              " [0, 0, 1],\n",
              " [0, 0, 1],\n",
              " [1, 0, 1],\n",
              " [1, 0, 1],\n",
              " [1, 1, 0],\n",
              " [1, 1, 0],\n",
              " [1, 1, 0],\n",
              " [1, 1, 0],\n",
              " [1, 0, 1],\n",
              " [1, 1, 0],\n",
              " [1, 0, 1],\n",
              " [1, 1, 0],\n",
              " [1, 0, 1],\n",
              " [1, 1, 0],\n",
              " [1, 0, 1],\n",
              " [0, 0, 1],\n",
              " [1, 0, 1],\n",
              " [0, 1, 0],\n",
              " [0, 0, 1],\n",
              " [0, 1, 0],\n",
              " [1, 0, 1],\n",
              " [0, 1, 1],\n",
              " [0, 0, 1],\n",
              " [1, 0, 1],\n",
              " [1, 0, 1],\n",
              " [1, 1, 0],\n",
              " [1, 1, 0],\n",
              " [0, 0, 1],\n",
              " [0, 0, 1],\n",
              " [0, 0, 1],\n",
              " [0, 0, 1],\n",
              " [0, 1, 0],\n",
              " [0, 0, 1],\n",
              " [0, 1, 0],\n",
              " [0, 0, 1],\n",
              " [1, 1, 0],\n",
              " [0, 0, 1],\n",
              " [0, 0, 1],\n",
              " [0, 0, 1],\n",
              " [1, 0, 1],\n",
              " [1, 0, 1],\n",
              " [1, 1, 0],\n",
              " [1, 1, 0],\n",
              " [0, 0, 1],\n",
              " [0, 0, 1],\n",
              " [1, 0, 1],\n",
              " [1, 0, 1],\n",
              " [1, 1, 0],\n",
              " [1, 1, 0],\n",
              " [0, 0, 1],\n",
              " [0, 0, 1],\n",
              " [1, 1, 1],\n",
              " [0, 0, 1],\n",
              " [0, 1, 0],\n",
              " [0, 0, 0]]"
            ]
          },
          "metadata": {
            "tags": []
          },
          "execution_count": 3
        }
      ]
    }
  ]
}