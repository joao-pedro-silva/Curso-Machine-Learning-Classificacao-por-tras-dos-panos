{
  "nbformat": 4,
  "nbformat_minor": 0,
  "metadata": {
    "colab": {
      "name": "04. O problema do sucesso e o algoritmo burro.ipynb",
      "provenance": [],
      "collapsed_sections": [],
      "authorship_tag": "ABX9TyM1aeRddAf/+gkkD9dqsxQq",
      "include_colab_link": true
    },
    "kernelspec": {
      "name": "python3",
      "display_name": "Python 3"
    },
    "language_info": {
      "name": "python"
    }
  },
  "cells": [
    {
      "cell_type": "markdown",
      "metadata": {
        "id": "view-in-github",
        "colab_type": "text"
      },
      "source": [
        "<a href=\"https://colab.research.google.com/github/joao-pedro-silva/Curso-Machine-Learning-Classificacao-por-tras-dos-panos/blob/main/04_O_problema_do_sucesso_e_o_algoritmo_burro.ipynb\" target=\"_parent\"><img src=\"https://colab.research.google.com/assets/colab-badge.svg\" alt=\"Open In Colab\"/></a>"
      ]
    },
    {
      "cell_type": "code",
      "metadata": {
        "id": "7NzzWJGU34dC"
      },
      "source": [
        "import pandas as pd\n",
        "\n",
        "df = pd.read_csv('busca.csv')\n",
        "\n",
        "X_df = df[['home', 'busca', 'logado']]\n",
        "Y_df = df['comprou']\n",
        "\n",
        "Xdummies_df = pd.get_dummies(X_df) #from categorical variable to binary\n",
        "Ydummies_df = Y_df\n",
        "\n",
        "X = Xdummies_df.values\n",
        "Y = Ydummies_df.values"
      ],
      "execution_count": 1,
      "outputs": []
    },
    {
      "cell_type": "code",
      "metadata": {
        "colab": {
          "base_uri": "https://localhost:8080/"
        },
        "id": "HIK6O0VK4UOa",
        "outputId": "d947f737-7858-4a79-fe94-dee6075f59bf"
      },
      "source": [
        " # If predict all '1' gets 83.2% accuracy (better than our model)\n",
        "\n",
        " acerto_de_um = sum(Y) #predict all 1\n",
        " acerto_de_zero = len(Y) - acerto_de_um #predict all 0\n",
        "\n",
        "taxa_de_acerto_base = 100.0 * max(acerto_de_um, acerto_de_zero) / len(Y)\n",
        "\n",
        "print(\"Taxa de acerto base: %f\" % taxa_de_acerto_base)"
      ],
      "execution_count": 2,
      "outputs": [
        {
          "output_type": "stream",
          "text": [
            "Taxa de acerto base: 83.200000\n"
          ],
          "name": "stdout"
        }
      ]
    },
    {
      "cell_type": "code",
      "metadata": {
        "colab": {
          "base_uri": "https://localhost:8080/"
        },
        "id": "Pca-5rBs7hmq",
        "outputId": "54c4a6ed-b319-40f0-b1bd-35fce4b58e90"
      },
      "source": [
        "Y==0"
      ],
      "execution_count": 3,
      "outputs": [
        {
          "output_type": "execute_result",
          "data": {
            "text/plain": [
              "array([False, False, False,  True, False,  True, False, False, False,\n",
              "       False, False,  True, False, False, False, False, False, False,\n",
              "       False, False, False, False, False, False,  True, False,  True,\n",
              "        True, False, False, False, False,  True,  True, False,  True,\n",
              "       False, False, False, False, False, False, False,  True, False,\n",
              "       False, False, False, False, False,  True, False, False, False,\n",
              "       False, False, False, False, False, False,  True, False, False,\n",
              "       False,  True, False,  True, False,  True, False, False, False,\n",
              "       False, False, False,  True, False, False, False, False, False,\n",
              "       False,  True, False,  True,  True, False, False, False,  True,\n",
              "       False, False, False, False,  True, False, False, False, False,\n",
              "       False, False, False, False,  True, False, False, False,  True,\n",
              "        True, False, False, False, False, False, False, False, False,\n",
              "       False, False,  True, False, False, False,  True, False, False,\n",
              "        True,  True, False, False, False, False, False, False, False,\n",
              "       False, False, False, False, False,  True,  True,  True,  True,\n",
              "       False, False, False, False,  True,  True, False, False, False,\n",
              "       False, False, False, False, False, False, False, False, False,\n",
              "       False, False,  True, False,  True, False, False, False, False,\n",
              "       False, False, False, False, False, False, False, False, False,\n",
              "       False, False,  True, False,  True, False,  True,  True, False,\n",
              "        True, False, False, False, False,  True, False, False, False,\n",
              "       False,  True, False,  True,  True, False, False, False, False,\n",
              "       False, False, False, False,  True, False, False, False, False,\n",
              "       False, False, False, False,  True, False, False, False, False,\n",
              "       False, False, False, False, False, False, False, False, False,\n",
              "       False, False, False, False, False, False, False, False, False,\n",
              "       False, False, False, False,  True, False, False, False, False,\n",
              "       False, False, False, False, False, False,  True,  True, False,\n",
              "       False,  True, False, False, False,  True, False, False, False,\n",
              "       False, False, False, False, False,  True, False,  True, False,\n",
              "       False,  True, False,  True, False, False,  True,  True, False,\n",
              "        True, False, False,  True, False, False, False, False, False,\n",
              "        True,  True, False, False, False, False,  True,  True, False,\n",
              "       False,  True,  True, False, False, False,  True, False, False,\n",
              "       False, False, False, False, False, False, False, False, False,\n",
              "        True, False, False, False, False, False, False,  True,  True,\n",
              "       False, False, False, False, False, False,  True, False,  True,\n",
              "       False,  True, False, False, False, False, False, False, False,\n",
              "       False, False, False, False, False, False, False, False, False,\n",
              "       False, False, False, False, False,  True,  True, False, False,\n",
              "       False, False, False, False, False, False, False, False, False,\n",
              "       False, False, False,  True, False, False, False,  True, False,\n",
              "       False, False, False,  True, False, False,  True, False, False,\n",
              "       False, False, False, False,  True,  True, False, False, False,\n",
              "       False, False,  True, False, False, False, False, False, False,\n",
              "       False, False, False, False,  True, False, False, False, False,\n",
              "       False, False, False, False, False, False, False, False,  True,\n",
              "       False,  True, False, False, False, False, False, False, False,\n",
              "       False, False, False,  True, False, False, False, False, False,\n",
              "       False, False, False, False, False, False,  True, False, False,\n",
              "       False, False, False, False, False, False, False, False, False,\n",
              "       False, False, False,  True, False, False, False, False, False,\n",
              "        True, False, False, False, False, False, False, False, False,\n",
              "       False, False, False, False, False, False, False, False, False,\n",
              "       False, False, False, False, False, False, False,  True, False,\n",
              "       False, False, False, False,  True, False, False, False, False,\n",
              "       False, False,  True, False, False,  True, False, False, False,\n",
              "       False, False, False, False, False,  True, False, False, False,\n",
              "       False, False, False,  True, False, False, False,  True, False,\n",
              "       False,  True, False, False, False, False,  True, False, False,\n",
              "        True, False, False, False,  True, False, False, False,  True,\n",
              "       False, False, False, False, False, False, False, False, False,\n",
              "       False, False,  True,  True, False, False, False, False, False,\n",
              "       False, False, False, False, False, False, False, False, False,\n",
              "        True, False, False, False, False, False, False, False, False,\n",
              "       False, False, False, False, False,  True,  True, False, False,\n",
              "       False, False, False, False,  True, False,  True, False, False,\n",
              "       False, False, False, False, False,  True, False, False, False,\n",
              "       False, False, False, False, False, False,  True, False, False,\n",
              "       False, False, False, False, False, False, False, False,  True,\n",
              "       False, False, False, False, False, False, False, False, False,\n",
              "       False, False, False, False, False, False, False, False, False,\n",
              "       False, False,  True,  True, False,  True,  True, False, False,\n",
              "       False, False, False, False, False, False, False, False, False,\n",
              "       False, False, False, False, False, False, False, False, False,\n",
              "       False, False, False, False,  True, False, False, False,  True,\n",
              "        True, False, False,  True, False, False, False, False, False,\n",
              "       False, False,  True, False, False, False, False, False, False,\n",
              "        True, False, False, False, False, False, False,  True, False,\n",
              "       False, False, False, False,  True,  True, False, False, False,\n",
              "       False, False, False, False, False, False, False,  True, False,\n",
              "        True, False, False, False, False, False, False, False,  True,\n",
              "       False, False, False, False, False, False,  True,  True, False,\n",
              "       False, False, False, False, False, False, False, False, False,\n",
              "       False, False, False, False, False, False,  True, False, False,\n",
              "       False, False, False, False, False, False, False, False, False,\n",
              "       False, False, False, False,  True, False,  True, False, False,\n",
              "       False, False, False, False, False, False, False, False,  True,\n",
              "       False, False, False, False, False, False, False,  True,  True,\n",
              "       False, False,  True,  True,  True, False, False, False, False,\n",
              "        True, False,  True,  True, False, False, False,  True, False,\n",
              "       False, False, False, False, False, False, False, False, False,\n",
              "       False,  True, False, False, False, False, False, False,  True,\n",
              "        True, False, False, False, False, False, False, False,  True,\n",
              "        True, False, False, False, False, False, False, False, False,\n",
              "       False, False, False, False, False, False, False, False, False,\n",
              "       False, False, False, False, False, False, False, False,  True,\n",
              "       False, False, False, False,  True, False, False, False,  True,\n",
              "       False, False, False, False, False, False, False, False, False,\n",
              "       False, False, False, False, False, False, False, False, False,\n",
              "       False, False, False, False, False, False,  True, False, False,\n",
              "       False,  True, False, False, False, False, False, False, False,\n",
              "       False, False, False,  True,  True,  True, False, False,  True,\n",
              "       False, False, False,  True, False, False, False, False, False,\n",
              "       False, False, False, False, False, False, False, False, False,\n",
              "       False, False, False, False, False, False, False, False, False,\n",
              "       False, False, False, False, False, False, False, False, False,\n",
              "       False,  True, False, False,  True,  True,  True, False,  True,\n",
              "        True, False, False, False,  True, False, False, False, False,\n",
              "       False, False,  True, False,  True,  True, False, False, False,\n",
              "        True])"
            ]
          },
          "metadata": {
            "tags": []
          },
          "execution_count": 3
        }
      ]
    },
    {
      "cell_type": "code",
      "metadata": {
        "colab": {
          "base_uri": "https://localhost:8080/"
        },
        "id": "Dc7bI_gv4WG2",
        "outputId": "4c8b0434-9860-4889-adb4-26950172fc44"
      },
      "source": [
        "len(Y[Y==0])"
      ],
      "execution_count": 4,
      "outputs": [
        {
          "output_type": "execute_result",
          "data": {
            "text/plain": [
              "168"
            ]
          },
          "metadata": {
            "tags": []
          },
          "execution_count": 4
        }
      ]
    },
    {
      "cell_type": "code",
      "metadata": {
        "colab": {
          "base_uri": "https://localhost:8080/"
        },
        "id": "OAYyIuAf7eHP",
        "outputId": "5c1a9ffa-416b-42fa-eff3-4abb854c5284"
      },
      "source": [
        "len(Y[Y==1])"
      ],
      "execution_count": 5,
      "outputs": [
        {
          "output_type": "execute_result",
          "data": {
            "text/plain": [
              "832"
            ]
          },
          "metadata": {
            "tags": []
          },
          "execution_count": 5
        }
      ]
    },
    {
      "cell_type": "code",
      "metadata": {
        "colab": {
          "base_uri": "https://localhost:8080/"
        },
        "id": "QLyUZOHxCj55",
        "outputId": "32882737-5592-4625-91ad-e7b4d7b323a7"
      },
      "source": [
        "from collections import Counter\n",
        "\n",
        "acerto_base = max(Counter(Y).values())\n",
        "\n",
        "taxa_de_acerto_base = 100.0 * acerto_base / len(Y)\n",
        "\n",
        "print(\"Taxa de acerto base: %f\" % taxa_de_acerto_base)"
      ],
      "execution_count": 9,
      "outputs": [
        {
          "output_type": "stream",
          "text": [
            "Taxa de acerto base: 83.200000\n"
          ],
          "name": "stdout"
        }
      ]
    }
  ]
}